{
 "cells": [
  {
   "cell_type": "code",
   "execution_count": 1,
   "metadata": {},
   "outputs": [
    {
     "name": "stderr",
     "output_type": "stream",
     "text": [
      "Using TensorFlow backend.\n"
     ]
    }
   ],
   "source": [
    "import tensorflow as tf\n",
    "from keras.models import Sequential\n",
    "from keras.layers import Conv2D, MaxPooling2D, Flatten, Dense, Activation, Dropout\n",
    "from keras.optimizers import Adam\n",
    "from keras.preprocessing.image import ImageDataGenerator\n",
    "\n",
    "import numpy as np"
   ]
  },
  {
   "cell_type": "code",
   "execution_count": 2,
   "metadata": {},
   "outputs": [],
   "source": [
    "IMG_SIZE = 128"
   ]
  },
  {
   "cell_type": "code",
   "execution_count": 3,
   "metadata": {},
   "outputs": [
    {
     "name": "stdout",
     "output_type": "stream",
     "text": [
      "Found 20000 images belonging to 2 classes.\n",
      "Found 5000 images belonging to 2 classes.\n"
     ]
    }
   ],
   "source": [
    "train_datagen = ImageDataGenerator(rescale=1./255,\n",
    "                                  horizontal_flip=True,\n",
    "                                  zoom_range=.15,\n",
    "                                  validation_split=.2,\n",
    "                                   width_shift_range=.1,\n",
    "                                   height_shift_range=.1\n",
    "                                  )\n",
    "\n",
    "train_generator = train_datagen.flow_from_directory(r'./train',\n",
    "                                                   target_size=(IMG_SIZE,IMG_SIZE),\n",
    "                                                   class_mode='binary',\n",
    "                                                   subset='training',\n",
    "                                                   )\n",
    "\n",
    "validation_generator = train_datagen.flow_from_directory(r'./train',\n",
    "                                                        target_size=(IMG_SIZE,IMG_SIZE),\n",
    "                                                        class_mode='binary',\n",
    "                                                        subset='validation')"
   ]
  },
  {
   "cell_type": "code",
   "execution_count": 4,
   "metadata": {},
   "outputs": [],
   "source": [
    "model = Sequential()\n",
    "\n",
    "model.add(Conv2D(128, input_shape=(IMG_SIZE,IMG_SIZE,3), kernel_size=(3,3)))\n",
    "model.add(Activation('relu'))\n",
    "model.add(MaxPooling2D(pool_size=(2,2)))\n",
    "\n",
    "model.add(Conv2D(256, kernel_size=(3,3)))\n",
    "model.add(Activation('relu'))\n",
    "model.add(MaxPooling2D(pool_size=(2,2)))\n",
    "\n",
    "model.add(Conv2D(512, kernel_size=(3,3)))\n",
    "model.add(Activation('relu'))\n",
    "model.add(MaxPooling2D(pool_size=(2,2)))\n",
    "\n",
    "model.add(Conv2D(512, kernel_size=(3,3)))\n",
    "model.add(Activation('relu'))\n",
    "model.add(MaxPooling2D(pool_size=(2,2)))\n",
    "\n",
    "model.add(Conv2D(512, kernel_size=(3,3)))\n",
    "model.add(Activation('relu'))\n",
    "model.add(MaxPooling2D(pool_size=(2,2)))\n",
    "\n",
    "model.add(Flatten())\n",
    "\n",
    "model.add(Dense(1))\n",
    "model.add(Activation('sigmoid'))\n",
    "\n",
    "model.compile(optimizer=Adam(), loss='binary_crossentropy', metrics=['accuracy'])"
   ]
  },
  {
   "cell_type": "code",
   "execution_count": 5,
   "metadata": {},
   "outputs": [
    {
     "name": "stdout",
     "output_type": "stream",
     "text": [
      "Epoch 1/20\n",
      "625/625 [==============================] - 162s 260ms/step - loss: 0.6825 - accuracy: 0.5566 - val_loss: 0.7592 - val_accuracy: 0.5504\n",
      "Epoch 2/20\n",
      "625/625 [==============================] - 153s 244ms/step - loss: 0.6437 - accuracy: 0.6287 - val_loss: 0.5408 - val_accuracy: 0.6852\n",
      "Epoch 3/20\n",
      "625/625 [==============================] - 156s 250ms/step - loss: 0.5893 - accuracy: 0.6817 - val_loss: 0.6282 - val_accuracy: 0.7182\n",
      "Epoch 4/20\n",
      "625/625 [==============================] - 161s 258ms/step - loss: 0.5526 - accuracy: 0.7146 - val_loss: 0.5190 - val_accuracy: 0.7442\n",
      "Epoch 5/20\n",
      "625/625 [==============================] - 154s 246ms/step - loss: 0.5105 - accuracy: 0.7511 - val_loss: 0.3634 - val_accuracy: 0.7686\n",
      "Epoch 6/20\n",
      "625/625 [==============================] - 154s 247ms/step - loss: 0.4627 - accuracy: 0.7792 - val_loss: 0.5688 - val_accuracy: 0.7590\n",
      "Epoch 7/20\n",
      "625/625 [==============================] - 154s 247ms/step - loss: 0.4121 - accuracy: 0.8110 - val_loss: 0.3159 - val_accuracy: 0.7950\n",
      "Epoch 8/20\n",
      "625/625 [==============================] - 155s 248ms/step - loss: 0.3754 - accuracy: 0.8297 - val_loss: 0.5010 - val_accuracy: 0.8370\n",
      "Epoch 9/20\n",
      "625/625 [==============================] - 155s 248ms/step - loss: 0.3350 - accuracy: 0.8542 - val_loss: 0.1299 - val_accuracy: 0.8592\n",
      "Epoch 10/20\n",
      "625/625 [==============================] - 155s 248ms/step - loss: 0.3001 - accuracy: 0.8712 - val_loss: 0.3790 - val_accuracy: 0.8608\n",
      "Epoch 11/20\n",
      "625/625 [==============================] - 155s 249ms/step - loss: 0.2753 - accuracy: 0.8817 - val_loss: 1.1812 - val_accuracy: 0.8726\n",
      "Epoch 12/20\n",
      "625/625 [==============================] - 156s 249ms/step - loss: 0.2592 - accuracy: 0.8885 - val_loss: 0.1025 - val_accuracy: 0.8668\n",
      "Epoch 13/20\n",
      "625/625 [==============================] - 156s 250ms/step - loss: 0.2469 - accuracy: 0.8949 - val_loss: 0.2106 - val_accuracy: 0.8660\n",
      "Epoch 14/20\n",
      "625/625 [==============================] - 156s 250ms/step - loss: 0.2321 - accuracy: 0.9051 - val_loss: 0.2147 - val_accuracy: 0.9024\n",
      "Epoch 15/20\n",
      "625/625 [==============================] - 157s 251ms/step - loss: 0.2160 - accuracy: 0.9075 - val_loss: 0.4554 - val_accuracy: 0.9054\n",
      "Epoch 16/20\n",
      "625/625 [==============================] - 157s 251ms/step - loss: 0.2153 - accuracy: 0.9113 - val_loss: 0.0638 - val_accuracy: 0.9080\n",
      "Epoch 17/20\n",
      "625/625 [==============================] - 157s 251ms/step - loss: 0.2010 - accuracy: 0.9173 - val_loss: 0.0090 - val_accuracy: 0.9014\n",
      "Epoch 18/20\n",
      "625/625 [==============================] - 157s 251ms/step - loss: 0.1947 - accuracy: 0.9167 - val_loss: 0.1586 - val_accuracy: 0.9084\n",
      "Epoch 19/20\n",
      "625/625 [==============================] - 157s 251ms/step - loss: 0.1877 - accuracy: 0.9205 - val_loss: 0.1799 - val_accuracy: 0.9064\n",
      "Epoch 20/20\n",
      "625/625 [==============================] - 157s 251ms/step - loss: 0.1801 - accuracy: 0.9253 - val_loss: 0.2142 - val_accuracy: 0.9128\n"
     ]
    },
    {
     "data": {
      "text/plain": [
       "<keras.callbacks.callbacks.History at 0x7f0645821f60>"
      ]
     },
     "execution_count": 5,
     "metadata": {},
     "output_type": "execute_result"
    }
   ],
   "source": [
    "model.fit_generator(train_generator, epochs=20, validation_data=validation_generator, use_multiprocessing=True)"
   ]
  },
  {
   "cell_type": "code",
   "execution_count": 4,
   "metadata": {},
   "outputs": [
    {
     "name": "stdout",
     "output_type": "stream",
     "text": [
      "Found 12500 images belonging to 1 classes.\n"
     ]
    }
   ],
   "source": [
    "test_datagen = ImageDataGenerator(rescale=1./255)\n",
    "\n",
    "test_generator = test_datagen.flow_from_directory(r'./test',\n",
    "                              target_size=(IMG_SIZE,IMG_SIZE),\n",
    "                              shuffle=False)"
   ]
  },
  {
   "cell_type": "code",
   "execution_count": 6,
   "metadata": {},
   "outputs": [
    {
     "name": "stdout",
     "output_type": "stream",
     "text": [
      "391/391 [==============================] - 31s 79ms/step\n"
     ]
    }
   ],
   "source": [
    "predictions = model.predict_generator(test_generator, use_multiprocessing=True, verbose=1)"
   ]
  },
  {
   "cell_type": "code",
   "execution_count": 7,
   "metadata": {},
   "outputs": [],
   "source": [
    "import pandas as pd\n",
    "\n",
    "output = pd.DataFrame([[i+1, predictions[i][0]] for i in range(0, len(predictions))], columns=['id', 'label'])\n",
    "output.to_csv('submission.csv', index=False)"
   ]
  },
  {
   "cell_type": "code",
   "execution_count": null,
   "metadata": {},
   "outputs": [],
   "source": []
  }
 ],
 "metadata": {
  "kernelspec": {
   "display_name": "Python 3",
   "language": "python",
   "name": "python3"
  },
  "language_info": {
   "codemirror_mode": {
    "name": "ipython",
    "version": 3
   },
   "file_extension": ".py",
   "mimetype": "text/x-python",
   "name": "python",
   "nbconvert_exporter": "python",
   "pygments_lexer": "ipython3",
   "version": "3.6.9"
  }
 },
 "nbformat": 4,
 "nbformat_minor": 4
}
